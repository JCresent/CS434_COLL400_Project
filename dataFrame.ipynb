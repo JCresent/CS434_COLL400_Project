{
 "cells": [
  {
   "cell_type": "code",
   "execution_count": 4,
   "metadata": {},
   "outputs": [],
   "source": [
    "import numpy as np\n",
    "import pandas as pd\n",
    "import matplotlib.pyplot as plt\n",
    "from sklearn.utils import resample\n",
    "\n",
    "protocolMap = {}\n",
    "\n",
    "def reformatInfoAndPacket(dataframe):\n",
    "    protocols = dataframe[\"Protocol\"].value_counts().index\n",
    "    \n",
    "    for protocol in protocols:\n",
    "        if protocol not in protocolMap.keys():\n",
    "            protocolMap[protocol] = len(protocolMap)\n",
    "    # for info in infos:\n",
    "    #     if info not in infoMap.keys():\n",
    "    #         infoMap[info] = len(infoMap)\n",
    "    dataframe[\"Protocol\"] = dataframe[\"Protocol\"].map(protocolMap)\n",
    "    if \"Website\" in dataframe.columns:\n",
    "        return dataframe[[\"Time\", \"Protocol\", \"Length\",\"Website\"]]\n",
    "    else:\n",
    "        return dataframe[[\"Time\", \"Protocol\", \"Length\"]]\n",
    "    \n",
    "def convertWireSharkData(chatGPTcsv,blackboardcsv, linkedIncsv, sizeOfDataFrame = 0):\n",
    "    chatGPT = pd.read_csv(chatGPTcsv)\n",
    "    blackboard = pd.read_csv(blackboardcsv)\n",
    "    linkedIn = pd.read_csv(linkedIncsv)\n",
    "    sampleSize = min(len(chatGPT),len(blackboard),len(linkedIn))\n",
    "\n",
    "    blackboardDownsampled = resample(blackboard,replace=False, n_samples=sampleSize,random_state=42)\n",
    "    linkedInDownsampled = resample(linkedIn,replace=False, n_samples=sampleSize,random_state=42)\n",
    "    chatGPTDownsampled = resample(chatGPT,replace=False, n_samples=sampleSize,random_state=42)\n",
    "\n",
    "    chatGPTDownsampled[\"Website\"] = \"ChatGPT\"\n",
    "    blackboardDownsampled[\"Website\"] = \"Blackboard\"\n",
    "    linkedInDownsampled[\"Website\"] = \"Linkedin\"\n",
    "    completeData = pd.concat([chatGPTDownsampled, blackboardDownsampled,linkedInDownsampled])\n",
    "    numericData = reformatInfoAndPacket(completeData) \n",
    "    \n",
    "    if sizeOfDataFrame == 0:\n",
    "        sizeOfDataFrame = len(numericData)\n",
    "    downSampledData = resample(numericData,replace=False, n_samples=sizeOfDataFrame,random_state=42)\n",
    "    print(downSampledData)\n",
    "    return downSampledData,blackboard, chatGPT, linkedIn\n",
    "\n",
    "\n",
    "    \n"
   ]
  },
  {
   "cell_type": "code",
   "execution_count": 5,
   "metadata": {},
   "outputs": [
    {
     "name": "stdout",
     "output_type": "stream",
     "text": [
      "           Time  Protocol  Length     Website\n",
      "2307  70.712969         1      87     ChatGPT\n",
      "670   12.668260         1      67     ChatGPT\n",
      "1061  32.229970         1      83     ChatGPT\n",
      "2384  82.296727         0    1494    Linkedin\n",
      "416    2.061912         2     529    Linkedin\n",
      "...         ...       ...     ...         ...\n",
      "174    1.234227         0    1514  Blackboard\n",
      "1538  71.180707         0      56    Linkedin\n",
      "2092  79.571787         2     235    Linkedin\n",
      "1651  18.730526         0      66  Blackboard\n",
      "543    2.321296         0    1514  Blackboard\n",
      "\n",
      "[7000 rows x 4 columns]\n",
      "{'TCP': 0, 'QUIC': 1, 'TLSv1.2': 2}\n"
     ]
    }
   ],
   "source": [
    "data,blackboard, chatGPT, linkedIn = convertWireSharkData(\"lakeData/train/chatdata.csv\",\"lakeData/train/blackboardData.csv\",\"lakeData/train/linkedindata.csv\",7000 )\n",
    "blackboard\n",
    "print(protocolMap)"
   ]
  }
 ],
 "metadata": {
  "kernelspec": {
   "display_name": "base",
   "language": "python",
   "name": "python3"
  },
  "language_info": {
   "codemirror_mode": {
    "name": "ipython",
    "version": 3
   },
   "file_extension": ".py",
   "mimetype": "text/x-python",
   "name": "python",
   "nbconvert_exporter": "python",
   "pygments_lexer": "ipython3",
   "version": "3.9.13"
  }
 },
 "nbformat": 4,
 "nbformat_minor": 2
}
